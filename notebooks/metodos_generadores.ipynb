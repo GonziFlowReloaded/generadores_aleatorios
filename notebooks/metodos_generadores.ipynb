{
 "cells": [
  {
   "cell_type": "code",
   "execution_count": 17,
   "metadata": {},
   "outputs": [],
   "source": [
    "#Importar factorial\n",
    "from math import factorial\n",
    "\n",
    "def combinatoria(n, k):\n",
    "    return (factorial(n) / (factorial(k) * factorial(n - k)))"
   ]
  },
  {
   "cell_type": "markdown",
   "metadata": {},
   "source": [
    "# Generadores"
   ]
  },
  {
   "cell_type": "markdown",
   "metadata": {},
   "source": [
    "###  Cuadrados medios"
   ]
  },
  {
   "cell_type": "code",
   "execution_count": 18,
   "metadata": {},
   "outputs": [],
   "source": [
    "def middle_square(seed: int, iterations = 100, quant_digits = 100):\n",
    "    results = []\n",
    "    for _ in range(iterations):\n",
    "        seed_squared = seed ** 2 \n",
    "        seed_str = str(seed_squared)\n",
    "        seed_str = seed_str.zfill(8)\n",
    "        seed = int(seed_str[2:6])\n",
    "\n",
    "        for i in range(0,4):\n",
    "            if len(results) == quant_digits:\n",
    "                return results\n",
    "            \n",
    "            try:\n",
    "                results.append(int(str(seed)[i]))\n",
    "                \n",
    "            except IndexError:\n",
    "                results.append(0)\n",
    "\n",
    "    return results"
   ]
  },
  {
   "cell_type": "markdown",
   "metadata": {},
   "source": [
    "### Congruencial Mixto"
   ]
  },
  {
   "cell_type": "code",
   "execution_count": 19,
   "metadata": {},
   "outputs": [],
   "source": [
    "def congruential_mixed(seed: int, a = 16807, c = 32, m = 2147483647, iterations = 100, quant_digits = 100):\n",
    "    results = []\n",
    "    for _ in range(iterations):\n",
    "        seed = (a * seed + c) % m\n",
    "\n",
    "        for i in range(0, 4):\n",
    "            if len(results) == quant_digits:\n",
    "                return results\n",
    "            \n",
    "            try:\n",
    "                results.append(int(str(seed)[i]))\n",
    "                \n",
    "            except IndexError:\n",
    "                results.append(0)\n",
    "    return results"
   ]
  },
  {
   "cell_type": "markdown",
   "metadata": {},
   "source": [
    "### Congruencial multiplicativo"
   ]
  },
  {
   "cell_type": "code",
   "execution_count": 20,
   "metadata": {},
   "outputs": [],
   "source": [
    "def congruential_multiplicative(seed: int, a = 16807, m = 2147483647 , iterations = 100, quant_digits = 100):\n",
    "    results = []\n",
    "    for _ in range(iterations):\n",
    "        seed = (a * seed) % m\n",
    "\n",
    "        for i in range(0,4):\n",
    "            if len(results) == quant_digits:\n",
    "                return results\n",
    "            \n",
    "            try:\n",
    "                results.append(int(str(seed)[i]))\n",
    "                \n",
    "            except IndexError:\n",
    "                results.append(0)\n",
    "    return results"
   ]
  },
  {
   "cell_type": "markdown",
   "metadata": {},
   "source": [
    "### Congruencial aditivo"
   ]
  },
  {
   "cell_type": "code",
   "execution_count": 21,
   "metadata": {},
   "outputs": [],
   "source": [
    "def congruencial_aditivo(seed: int, iterations = 100, quant_digits = 100, c = 32, m = 2147483647):\n",
    "    results = []\n",
    "    for _ in range(iterations):\n",
    "        seed = (seed + c) % m\n",
    "\n",
    "        for i in range(0,4):\n",
    "            if len(results) == quant_digits:\n",
    "                return results\n",
    "            \n",
    "            try:\n",
    "                results.append(int(str(seed)[i]))\n",
    "                \n",
    "            except IndexError:\n",
    "                results.append(0)\n",
    "    return results"
   ]
  },
  {
   "cell_type": "markdown",
   "metadata": {},
   "source": [
    "### Producto medio"
   ]
  },
  {
   "cell_type": "code",
   "execution_count": 22,
   "metadata": {},
   "outputs": [],
   "source": [
    "def producto_medio(seed1: int, seed2: int, iterations = 100, quant_digits = 100):\n",
    "    results = []\n",
    "    for _ in range(iterations):\n",
    "        seed1 = seed1 * seed2\n",
    "        seed1_str = str(seed1)\n",
    "        seed1_str = seed1_str.zfill(8)\n",
    "        seed1 = int(seed1_str[2:6])\n",
    "\n",
    "        for i in range(0,4):\n",
    "            if len(results) == quant_digits:\n",
    "                return results\n",
    "            \n",
    "            try:\n",
    "                results.append(int(str(seed1)[i]))\n",
    "                \n",
    "            except IndexError:\n",
    "                results.append(0)\n",
    "    return results"
   ]
  },
  {
   "cell_type": "markdown",
   "metadata": {},
   "source": [
    "# Validador de numeros pseudo-aleatorio"
   ]
  },
  {
   "cell_type": "markdown",
   "metadata": {},
   "source": [
    "### Chi-cuadrado"
   ]
  },
  {
   "cell_type": "code",
   "execution_count": 23,
   "metadata": {},
   "outputs": [],
   "source": [
    "import numpy as np\n",
    "import scipy.stats as stats\n",
    "\n",
    "\n",
    "def chi_squared_test(numbers: list, num_bins=10, alpha=0.005):\n",
    "    # Convertir los números a una escala de 0 a 1 si es necesario\n",
    "    scaled_numbers = [(x / max(numbers)) for x in numbers]\n",
    "    \n",
    "    # Definir los límites de los bins\n",
    "    bin_edges = np.linspace(0, 1, num_bins+1)\n",
    "    \n",
    "    # Crear un histograma con los números escalados\n",
    "    observed_frequency, _ = np.histogram(scaled_numbers, bins=bin_edges)\n",
    "    \n",
    "    # Calcular la frecuencia esperada\n",
    "    expected_frequency = len(scaled_numbers) / num_bins\n",
    "    \n",
    "    # Calcular el estadístico chi-cuadrado\n",
    "    chi_squared_statistic = np.sum((observed_frequency - expected_frequency) ** 2 / expected_frequency)\n",
    "    \n",
    "    # Obtener el valor crítico de la distribución chi-cuadrado\n",
    "    critical_value = stats.chi2.ppf(1 - alpha, num_bins - 1)\n",
    "    \n",
    "    # Retornar el resultado de la prueba\n",
    "    return chi_squared_statistic <= critical_value"
   ]
  },
  {
   "cell_type": "markdown",
   "metadata": {},
   "source": [
    "# Distribuciones"
   ]
  },
  {
   "cell_type": "markdown",
   "metadata": {},
   "source": [
    "### Poisson"
   ]
  },
  {
   "cell_type": "code",
   "execution_count": 24,
   "metadata": {},
   "outputs": [
    {
     "name": "stdout",
     "output_type": "stream",
     "text": [
      "Ejemplo poisson acumulada:  (0.12465201948308113, [0.006737946999085467, 0.03368973499542734, 0.08422433748856833])\n"
     ]
    }
   ],
   "source": [
    "import math\n",
    "def distribucionPoisson(lamdaa, k):\n",
    "    \"\"\"\n",
    "    lambda: tasa de llegadas\n",
    "    k: número de llegadas\n",
    "    \"\"\"\n",
    "    return (lamdaa**k * math.exp(-lamdaa)) / math.factorial(k)\n",
    "\n",
    "def poissonAcumulada(lamdaa, k, rango: list):\n",
    "    \"\"\"\n",
    "    lambda: tasa de llegadas\n",
    "    k: número de llegadas\n",
    "    rango: rango de valores a sumar\n",
    "    \"\"\"\n",
    "    prob_indiviuales = []\n",
    "    for i in range(rango[0], rango[1] + 1):\n",
    "        prob_indiviuales.append(distribucionPoisson(lamdaa, i))\n",
    "\n",
    "    return sum(prob_indiviuales), prob_indiviuales\n",
    "\n",
    "    \n",
    "\n",
    "print(\"Ejemplo poisson acumulada: \", poissonAcumulada(5, 2, [0, 2]))\n",
    "\n",
    "\n",
    "\n"
   ]
  },
  {
   "cell_type": "markdown",
   "metadata": {},
   "source": [
    "### Binomial"
   ]
  },
  {
   "cell_type": "code",
   "execution_count": 25,
   "metadata": {},
   "outputs": [
    {
     "name": "stdout",
     "output_type": "stream",
     "text": [
      "Ejemplo binomial acumulada:  (0.623046875, [0.0009765625, 0.009765625, 0.0439453125, 0.1171875, 0.205078125, 0.24609375])\n"
     ]
    }
   ],
   "source": [
    "def binomial_distribution(n_ensayos, prob_exito, n_exitos):\n",
    "    \n",
    "    resultado = combinatoria(n_ensayos, n_exitos) * (prob_exito ** n_exitos) * (1-prob_exito) ** (n_ensayos - n_exitos)\n",
    "    \n",
    "    return resultado\n",
    "\n",
    "def binomial_acumulada(n_ensayos, prob_exito, n_exitos, rango: list):\n",
    "    \"\"\"\n",
    "    n_ensayos: número de ensayos\n",
    "    prob_exito: probabilidad de éxito\n",
    "    n_exitos: número de éxitos\n",
    "    rango: rango de valores a sumar ejemplo si se te pide calcular un rango de 0 a 5, el rango sería [0, 5]\n",
    "    \"\"\"\n",
    "    prob_indiviuales = []\n",
    "    for i in range(rango[0], rango[1] + 1):\n",
    "        prob_indiviuales.append(binomial_distribution(n_ensayos, prob_exito, i))\n",
    "\n",
    "    return sum(prob_indiviuales), prob_indiviuales\n",
    "\n",
    "print(\"Ejemplo binomial acumulada: \", binomial_acumulada(10, 0.5, 5, [0, 5]))"
   ]
  },
  {
   "cell_type": "markdown",
   "metadata": {},
   "source": [
    "# Pruebas"
   ]
  }
 ],
 "metadata": {
  "kernelspec": {
   "display_name": "venv",
   "language": "python",
   "name": "python3"
  },
  "language_info": {
   "codemirror_mode": {
    "name": "ipython",
    "version": 3
   },
   "file_extension": ".py",
   "mimetype": "text/x-python",
   "name": "python",
   "nbconvert_exporter": "python",
   "pygments_lexer": "ipython3",
   "version": "3.9.12"
  }
 },
 "nbformat": 4,
 "nbformat_minor": 2
}
