{
 "cells": [
  {
   "cell_type": "markdown",
   "metadata": {},
   "source": [
    "## Cuadrados medios"
   ]
  },
  {
   "cell_type": "code",
   "execution_count": 34,
   "metadata": {},
   "outputs": [],
   "source": [
    "\n",
    "def middle_square(seed: int, iterations = 100, quant_digits = 100):\n",
    "    results = []\n",
    "    for _ in range(iterations):\n",
    "        seed_squared = seed ** 2 \n",
    "        seed_str = str(seed_squared)\n",
    "        seed_str = seed_str.zfill(8)\n",
    "        seed = int(seed_str[2:6])\n",
    "\n",
    "        for i in range(0,4):\n",
    "            if len(results) == quant_digits:\n",
    "                return results\n",
    "            \n",
    "            try:\n",
    "                results.append(int(str(seed)[i]))\n",
    "                \n",
    "            except IndexError:\n",
    "                results.append(0)\n",
    "\n",
    "\n",
    "            \n",
    "\n",
    "    return results\n"
   ]
  },
  {
   "cell_type": "code",
   "execution_count": 35,
   "metadata": {},
   "outputs": [
    {
     "name": "stdout",
     "output_type": "stream",
     "text": [
      "[5, 2, 2, 7, 3, 2, 1, 5, 3, 3, 6, 2, 3, 0, 3, 0, 1, 8, 0, 9, 2, 7, 2, 4, 4, 2, 0, 1, 6, 4, 8, 4, 4, 2, 2, 0, 1, 7, 8, 0, 1, 6, 8, 4, 8, 3, 5, 8, 8, 5, 6, 1, 2, 9, 0, 7, 4, 5, 0, 6, 3, 0, 4, 0, 2, 4, 1, 6, 8, 3, 7, 0, 5, 6, 9, 0, 3, 2, 3, 7, 4, 7, 8, 1, 8, 5, 7, 9, 5, 9, 9, 2, 9, 0, 4, 0, 7, 2, 1, 6]\n",
      "100\n"
     ]
    }
   ],
   "source": [
    "print(middle_square(1234, quant_digits=100))\n",
    "print(len(middle_square(1234, quant_digits=100)))"
   ]
  },
  {
   "cell_type": "markdown",
   "metadata": {},
   "source": [
    "## Multiplicativo de congruencias"
   ]
  },
  {
   "cell_type": "code",
   "execution_count": 36,
   "metadata": {},
   "outputs": [],
   "source": [
    "def congruential_multiplicative(seed: int, a = 16807, m = 2147483647 , iterations = 100, quant_digits = 100):\n",
    "    results = []\n",
    "    for _ in range(iterations):\n",
    "        seed = (a * seed) % m\n",
    "\n",
    "        for i in range(0,4):\n",
    "            if len(results) == quant_digits:\n",
    "                return results\n",
    "            \n",
    "            try:\n",
    "                results.append(int(str(seed)[i]))\n",
    "                \n",
    "            except IndexError:\n",
    "                results.append(0)\n",
    "    return results\n"
   ]
  },
  {
   "cell_type": "code",
   "execution_count": 37,
   "metadata": {},
   "outputs": [
    {
     "name": "stdout",
     "output_type": "stream",
     "text": [
      "[1, 6, 6, 0, 1, 7, 7, 9, 1, 5, 3, 7, 6, 3, 2, 7, 1, 8, 8, 7, 1, 4, 2, 6, 5, 4, 8, 3, 2, 0, 8, 7, 1, 3, 2, 3, 1, 5, 0, 9, 1, 8, 6, 6, 5, 7, 7, 6, 1, 7, 3, 4, 3, 6, 8, 0, 3, 3, 1, 0, 1, 9, 4, 1, 1, 7, 6, 2, 9, 8, 2, 7, 7, 1, 2, 2, 2, 0, 2, 6, 2, 0, 0, 6, 3, 3, 4, 1, 1, 0, 0, 6, 5, 1, 2, 5, 1, 6, 1, 0]\n"
     ]
    }
   ],
   "source": [
    "print(congruential_multiplicative(98784, quant_digits= 100))"
   ]
  },
  {
   "cell_type": "markdown",
   "metadata": {},
   "source": [
    "## Congruencial mixto"
   ]
  },
  {
   "cell_type": "code",
   "execution_count": 21,
   "metadata": {},
   "outputs": [],
   "source": [
    "import datetime\n",
    "\n",
    "def congruential_mixed(seed: int, a=7, c=7, m=10, iterations=100, quant_digits=123):\n",
    "    results = []\n",
    "    for _ in range(iterations):\n",
    "        seed = (a * seed + c) % m\n",
    "        # seed += datetime.datetime.now().microsecond\n",
    "  \n",
    "        for digit in str(seed):\n",
    "            results.append(int(digit))\n",
    "            if len(results) == quant_digits:\n",
    "                return results\n",
    "            \n",
    "\n",
    "    return results\n"
   ]
  },
  {
   "cell_type": "code",
   "execution_count": 22,
   "metadata": {},
   "outputs": [
    {
     "name": "stdout",
     "output_type": "stream",
     "text": [
      "[2, 1, 4, 5, 2, 1, 4, 5, 2, 1]\n"
     ]
    }
   ],
   "source": [
    "print(congruential_mixed(5, quant_digits= 10))"
   ]
  },
  {
   "cell_type": "markdown",
   "metadata": {},
   "source": [
    "## Decimales"
   ]
  },
  {
   "cell_type": "code",
   "execution_count": 24,
   "metadata": {},
   "outputs": [
    {
     "name": "stdout",
     "output_type": "stream",
     "text": [
      "[0.75, 0.625, 0.0, 0.875, 0.25, 0.125, 0.5, 0.375]\n"
     ]
    }
   ],
   "source": [
    "def congruential_mixto_decimal(seed: int, a = 1103515245, c = 12345, m= 2**32, n=100):\n",
    "    \"\"\"\n",
    "    Genera una secuencia de números aleatorios decimales utilizando el método de congruencia mixto.\n",
    "\n",
    "    Args:\n",
    "    - seed: Semilla inicial para el generador.\n",
    "    - a: Multiplicador.\n",
    "    - c: Constante aditiva.\n",
    "    - m: Módulo.\n",
    "    - n: Número de valores a generar.\n",
    "\n",
    "    Returns:\n",
    "    - Lista de números aleatorios decimales.\n",
    "    \"\"\"\n",
    "    random_numbers = []\n",
    "    x = seed\n",
    "    for _ in range(n):\n",
    "        x = (a * x + c) % m\n",
    "        random_numbers.append(x / m)  # Normalizando el resultado para obtener números entre 0 y 1\n",
    "    return random_numbers\n",
    "\n",
    "# Ejemplo de uso:\n",
    "seed = 3\n",
    "a = 5\n",
    "c = 7\n",
    "m = 8\n",
    "cant_nums = 8\n",
    "random_decimals = congruential_mixto_decimal(seed, a, c, m, cant_nums)\n",
    "print(random_decimals)\n"
   ]
  },
  {
   "cell_type": "code",
   "execution_count": 41,
   "metadata": {},
   "outputs": [
    {
     "name": "stdout",
     "output_type": "stream",
     "text": [
      "[0.05429420690052211, 0.029913224279880524, 0.019955178955569863, 0.19417739612981677, 0.8636596796568483]\n"
     ]
    }
   ],
   "source": [
    "def congruential_mixto_decimal_interval(seed: int, interval: list, a=1103515245, c=12345, m=2**32, n=100):\n",
    "    \"\"\"\n",
    "    Genera una secuencia de números aleatorios decimales dentro de un intervalo utilizando el método de congruencia mixto.\n",
    "\n",
    "    Args:\n",
    "    - seed: Semilla inicial para el generador.\n",
    "    - interval: Arreglo de dos números representando el intervalo [a, b].\n",
    "    - a: Multiplicador.\n",
    "    - c: Constante aditiva.\n",
    "    - m: Módulo.\n",
    "    - n: Número de valores a generar.\n",
    "\n",
    "    Returns:\n",
    "    - Lista de números aleatorios decimales dentro del intervalo.\n",
    "    \"\"\"\n",
    "    random_numbers = []\n",
    "    a_interval, b_interval = interval\n",
    "    for rand in congruential_mixto_decimal(seed, a, c, m, n):\n",
    "        random_numbers.append(rand * (b_interval - a_interval) + a_interval)\n",
    "    return random_numbers\n",
    "\n",
    "# Ejemplo de uso:\n",
    "seed = 1234\n",
    "interval = [0, 1]  # Intervalo [5.0, 10.0]\n",
    "random_decimals_interval = congruential_mixto_decimal_interval(seed, interval, n=5)\n",
    "print(random_decimals_interval)\n"
   ]
  },
  {
   "cell_type": "markdown",
   "metadata": {},
   "source": [
    "## Ejercicio represa"
   ]
  },
  {
   "cell_type": "code",
   "execution_count": 47,
   "metadata": {},
   "outputs": [
    {
     "name": "stdout",
     "output_type": "stream",
     "text": [
      "Simulación de la represa durante 100 días\n",
      "La represa ha colapsado\n",
      "El nivel de alerta roja se activó 17 veces\n",
      "Veces que se abrieron las compuertas:\n",
      "Compuerta 1: 62 veces\n",
      "Compuerta 2: 61 veces\n",
      "Compuerta 3: 41 veces\n",
      "Compuerta 4: 35 veces\n"
     ]
    }
   ],
   "source": [
    "\"\"\"\n",
    "Nivel máximo de agua soportado por la represa: 45 m\n",
    "Niveles de activación de las compuertas: 15 m, 25 m, 32 m, 40 m\n",
    "Altura máxima de la represa: 52 m\n",
    "Ley de distribución de los incrementos diarios del nivel del lago\n",
    "\"\"\"\n",
    "\"\"\"\n",
    "Rangos de probabilidad de los incrementos diarios del nivel del lago:\n",
    "[000 - 036] -3\n",
    "[037 - 188] -2\n",
    "[189 - 224] -1\n",
    "[225 - 605] 0\n",
    "[606 - 659] 1\n",
    "[660 - 887] 2\n",
    "[888- 999] 3\n",
    "\"\"\"\n",
    "\n",
    "\n",
    "def simular_represa(dias = 10, nivel_del_lago = 10, seed=4443):\n",
    "\n",
    "    print(f'Simulación de la represa durante {dias} días')\n",
    "    numeros_generados = congruential_mixed(seed = seed, quant_digits=dias*4)\n",
    "\n",
    "    nivel_maximo = 52\n",
    "    nivel_minimo = 0\n",
    "    nivel_actual = nivel_del_lago\n",
    "    nivel_alerta_roja = 45\n",
    "\n",
    "    compuertas = {\n",
    "        1: 15,\n",
    "        2: 25,\n",
    "        3: 32,\n",
    "        4: 40\n",
    "    }\n",
    "\n",
    "    cantidad_de_veces_compuerta_abierta = {\n",
    "        1: 0,\n",
    "        2: 0,\n",
    "        3: 0,\n",
    "        4: 0\n",
    "    }\n",
    "    \n",
    "    probabilidades = {\n",
    "        -3: [0, 36],\n",
    "        -2: [37, 188],\n",
    "        -1: [189, 224],\n",
    "        0: [225, 605],\n",
    "        1: [606, 659],\n",
    "        2: [660, 887],\n",
    "        3: [888, 999]\n",
    "    }\n",
    "\n",
    "    contar_alerta_roja = 0\n",
    "\n",
    "    for i in range(dias):\n",
    "        probabilidad_obtenida = \"\"\n",
    "        \n",
    "        #Agarrar 3 digitos de la lista de numeros generados\n",
    "        \n",
    "        for _ in range(3):\n",
    "            probabilidad_obtenida += str(numeros_generados.pop(0))\n",
    "            \n",
    "        \n",
    "        for key, value in probabilidades.items():\n",
    "            if int(probabilidad_obtenida) >= value[0] and int(probabilidad_obtenida) <= value[1]:\n",
    "                nivel_actual += key\n",
    "                break\n",
    "\n",
    "        if nivel_actual > nivel_maximo:\n",
    "            nivel_actual = nivel_maximo\n",
    "\n",
    "        if nivel_actual < nivel_minimo:\n",
    "            nivel_actual = nivel_minimo\n",
    "\n",
    "        print(f'Día {i+1}: Nivel del lago: {nivel_actual} m')\n",
    "\n",
    "        for compuerta in compuertas:\n",
    "            if nivel_actual > compuertas[compuerta]:\n",
    "\n",
    "                cantidad_de_veces_compuerta_abierta[compuerta] += 1\n",
    "\n",
    "                print(f'Compuerta {compuerta} abierta')\n",
    "        \n",
    "        if nivel_actual >= nivel_alerta_roja:\n",
    "            print('Nivel de alerta roja')\n",
    "            contar_alerta_roja += 1\n",
    "\n",
    "        if nivel_actual >= nivel_maximo:\n",
    "            print('La represa ha colapsado')\n",
    "            break\n",
    "\n",
    "        if nivel_actual <= nivel_minimo:\n",
    "            print('El lago se ha secado')\n",
    "            break\n",
    "        \n",
    "\n",
    "\n",
    "    print(f'El nivel de alerta roja se activó {contar_alerta_roja} veces')\n",
    "    print('Veces que se abrieron las compuertas:')\n",
    "    for compuerta, veces in cantidad_de_veces_compuerta_abierta.items():\n",
    "        print(f'Compuerta {compuerta}: {veces} veces')\n",
    "\n",
    "simular_represa(dias=100, nivel_del_lago=23, seed=1233)"
   ]
  },
  {
   "cell_type": "code",
   "execution_count": 43,
   "metadata": {},
   "outputs": [
    {
     "name": "stdout",
     "output_type": "stream",
     "text": [
      "Los números generados son aleatorios: True\n",
      "Xobs: 7.333333333333333\n",
      "Xesp: 16.918977604620448\n"
     ]
    }
   ],
   "source": [
    "import numpy as np\n",
    "import scipy\n",
    "\n",
    "def chi_squared_test(numbers: list, num_bins=10, alpha=0.05):\n",
    "    expected_frequency = len(numbers) / num_bins\n",
    "    \n",
    "    # Calcular el histograma de los números generados\n",
    "    observed_frequency, _ = np.histogram(numbers, bins=num_bins)\n",
    "    \n",
    "    # Calcular el estadístico de prueba (chi-cuadrado)\n",
    "    chi_squared_statistic = np.sum((observed_frequency - expected_frequency) ** 2 / expected_frequency)\n",
    "    \n",
    "    # Calcular el valor crítico de chi-cuadrado\n",
    "    critical_value = scipy.stats.chi2.ppf(1 - alpha, num_bins - 1)\n",
    "    \n",
    "    # Comparar el estadístico de prueba con el valor crítico\n",
    "    if chi_squared_statistic <= critical_value:\n",
    "        return True, chi_squared_statistic, critical_value\n",
    "    else:\n",
    "        return False, chi_squared_statistic, critical_value\n",
    "\n",
    "# Ejemplo de uso:\n",
    "numbers = congruential_mixed(1234, quant_digits=30)\n",
    "\n",
    "# Prueba de chi-cuadrado\n",
    "is_random, chi_squared_statistic, critical_value = chi_squared_test(numbers, num_bins=10, alpha=0.05)\n",
    "\n",
    "print(f'Los números generados son aleatorios: {is_random}')\n",
    "print(f'Xobs: {chi_squared_statistic}')\n",
    "print(f'Xesp: {critical_value}')"
   ]
  },
  {
   "cell_type": "code",
   "execution_count": null,
   "metadata": {},
   "outputs": [],
   "source": [
    "import datetime\n",
    "import numpy as np\n",
    "import scipy.stats as stats\n",
    "import pandas as pd\n",
    "\n",
    "def prueba_chi_cuadrado(numeros: list, cantidad_bins=10, nivel_significancia=0.05):\n",
    "    \"\"\"\n",
    "    Realiza el test de chi-cuadrado para evaluar si una secuencia de números sigue una distribución uniforme.\n",
    "\n",
    "    Args:\n",
    "        numeros (list): Secuencia de números generados.\n",
    "        cantidad_bins (int): Número de bins para el histograma.\n",
    "        nivel_significancia (float): Nivel de significancia para el test de chi-cuadrado.\n",
    "\n",
    "    Returns:\n",
    "        bool: True si pasa el test, False de lo contrario.\n",
    "        float: Estadístico de chi-cuadrado calculado.\n",
    "        float: Valor crítico de chi-cuadrado.\n",
    "    \"\"\"\n",
    "    frecuencia_esperada = len(numeros) / cantidad_bins\n",
    "    frecuencia_observada, _ = np.histogram(numeros, bins=cantidad_bins)\n",
    "    estadistico_chi_cuadrado = np.sum((frecuencia_observada - frecuencia_esperada) ** 2 / frecuencia_esperada)\n",
    "    valor_critico = stats.chi2.ppf(1 - nivel_significancia, cantidad_bins - 1)\n",
    "    return estadistico_chi_cuadrado <= valor_critico, estadistico_chi_cuadrado, valor_critico\n",
    "\n",
    "def generador_aleatorio_mixto(semilla: int, coeficiente_multiplicador=16807, incremento=32, modulo=2147483647, iteraciones=100, cantidad_digitos=123):\n",
    "    \"\"\"\n",
    "    Genera una secuencia de números pseudoaleatorios utilizando el método congruencial mixto.\n",
    "\n",
    "    Args:\n",
    "        semilla (int): Semilla inicial para el generador de números aleatorios.\n",
    "        coeficiente_multiplicador (int): Multiplicador.\n",
    "        incremento (int): Incremento.\n",
    "        modulo (int): Módulo.\n",
    "        iteraciones (int): Número de iteraciones para generar la secuencia.\n",
    "        cantidad_digitos (int): Cantidad de dígitos a generar.\n",
    "\n",
    "    Returns:\n",
    "        list: Secuencia de números pseudoaleatorios generados.\n",
    "    \"\"\"\n",
    "    resultados = []\n",
    "    for _ in range(iteraciones):\n",
    "        semilla = (coeficiente_multiplicador * semilla + incremento) % modulo\n",
    "        semilla += datetime.datetime.now().microsecond\n",
    "        for digit in str(semilla):\n",
    "            resultados.append(int(digit))\n",
    "        if len(resultados) == cantidad_digitos:\n",
    "            return resultados\n",
    "    return resultados\n",
    "\n",
    "def obtener_rangos_probabilidad(probabilidad_defecto):\n",
    "    \"\"\"\n",
    "    Obtiene los rangos de índices para clasificar los números generados como defectuosos o no defectuosos.\n",
    "\n",
    "    Args:\n",
    "        probabilidad_defecto (float): Probabilidad de defecto en la producción.\n",
    "\n",
    "    Returns:\n",
    "        dict: Diccionario con los rangos de índices para clasificar los números.\n",
    "        int: Valor máximo posible de un número generado.\n",
    "    \"\"\"\n",
    "    numero_str = str(probabilidad_defecto)\n",
    "    numeros_despues_del_punto = numero_str.split(\".\")[1]\n",
    "    valor_maximo = int(\"\".join([\"9\" for _ in range(len(numeros_despues_del_punto))]))\n",
    "    rangos_clasificacion = {\n",
    "        \"defectuoso\": [0, int(numeros_despues_del_punto) - 1],\n",
    "        \"no_defectuoso\": [int(numeros_despues_del_punto), valor_maximo]\n",
    "    }\n",
    "    return rangos_clasificacion, valor_maximo\n",
    "\n",
    "def simular_control_lote(probabilidad_lote, tamaño_muestra, limite_aceptacion, semilla=12344):\n",
    "    \"\"\"\n",
    "    Simula el proceso de control de calidad para un lote de placas de video.\n",
    "\n",
    "    Args:\n",
    "        probabilidad_lote (float): Probabilidad de defecto en la producción para el lote actual.\n",
    "        tamaño_muestra (int): Tamaño de la muestra de control.\n",
    "        limite_aceptacion (int): Límite de aceptación para la proporción de placas defectuosas.\n",
    "        semilla (int): Semilla inicial para el generador de números aleatorios.\n",
    "\n",
    "    Returns:\n",
    "        bool: True si el lote es aprobado, False si es rechazado.\n",
    "    \"\"\"\n",
    "    rangos_probabilidad, valor_maximo = obtener_rangos_probabilidad(probabilidad_lote)\n",
    "    cantidad_defectuosas = 0\n",
    "    cantidad_no_defectuosas = 0\n",
    "    numeros_aleatorios = generador_aleatorio_mixto(semilla=semilla, cantidad_digitos=tamaño_muestra * len(str(valor_maximo)) * 2)\n",
    "    prueba_valida = False\n",
    "    while not prueba_valida:\n",
    "        semilla += 1\n",
    "        numeros_aleatorios = generador_aleatorio_mixto(semilla=semilla, cantidad_digitos=tamaño_muestra * len(str(valor_maximo)) * 2)\n",
    "        prueba_valida, _, _ = prueba_chi_cuadrado(numeros_aleatorios)\n",
    "    for _ in range(tamaño_muestra):\n",
    "        numero_generado = int(\"\".join(str(numeros_aleatorios.pop(0)) for _ in range(len(str(valor_maximo)))))\n",
    "        if rangos_probabilidad[\"defectuoso\"][0] <= numero_generado <= rangos_probabilidad[\"defectuoso\"][1]:\n",
    "            cantidad_defectuosas += 1\n",
    "        else:\n",
    "            cantidad_no_defectuosas += 1\n",
    "    if cantidad_defectuosas <= limite_aceptacion:\n",
    "        return True\n",
    "    else:\n",
    "        return False\n",
    "\n",
    "def simular_control_fabrica(cantidad_simulaciones):\n",
    "    \"\"\"\n",
    "    Simula el proceso de control de calidad para múltiples lotes de placas de video.\n",
    "\n",
    "    Args:\n",
    "        cantidad_simulaciones (int): Cantidad de lotes a simular.\n",
    "    \"\"\"\n",
    "    lista_lotes = []\n",
    "    print(\"Ingresar los valores de p, n y a para la simulación de la fábrica de placas de video\")\n",
    "    probabilidad_lote = float(input(\"Probabilidad de placa grafica defectuosa (En decimales): \"))\n",
    "    tamaño_muestra = int(input(\"Tamaño de la muestra de control: \"))\n",
    "    limite_aceptacion = int(input(\"Límite de aceptación (Del tamaño de la muestra actual): \"))\n",
    "    for _ in range(cantidad_simulaciones):\n",
    "        lista_lotes.append(simular_control_lote(probabilidad_lote, tamaño_muestra, limite_aceptacion, semilla=333))\n",
    "    datos_lotes = pd.DataFrame(lista_lotes, columns=[\"Aprobado\"])\n",
    "    print(datos_lotes)\n",
    "    print(datos_lotes[\"Aprobado\"].value_counts())\n",
    "    print(datos_lotes[\"Aprobado\"].value_counts(normalize=True))\n",
    "    print(\"Proporción de placas defectuosas promedio:\", datos_lotes[\"Aprobado\"].mean())\n",
    "\n",
    "simular_control_fabrica(6)"
   ]
  }
 ],
 "metadata": {
  "kernelspec": {
   "display_name": "env",
   "language": "python",
   "name": "python3"
  },
  "language_info": {
   "codemirror_mode": {
    "name": "ipython",
    "version": 3
   },
   "file_extension": ".py",
   "mimetype": "text/x-python",
   "name": "python",
   "nbconvert_exporter": "python",
   "pygments_lexer": "ipython3",
   "version": "3.9.12"
  }
 },
 "nbformat": 4,
 "nbformat_minor": 2
}
