{
 "cells": [
  {
   "cell_type": "markdown",
   "metadata": {},
   "source": [
    "## Cuadrados medios"
   ]
  },
  {
   "cell_type": "code",
   "execution_count": 88,
   "metadata": {},
   "outputs": [],
   "source": [
    "\n",
    "def middle_square(seed: int, iterations = 100, quant_digits = 100):\n",
    "    results = []\n",
    "    for _ in range(iterations):\n",
    "        seed_squared = seed ** 2 \n",
    "        seed_str = str(seed_squared)\n",
    "        seed_str = seed_str.zfill(8)\n",
    "        seed = int(seed_str[2:6])\n",
    "\n",
    "        for i in range(0,4):\n",
    "            if len(results) == quant_digits:\n",
    "                return results\n",
    "            \n",
    "            try:\n",
    "                results.append(int(str(seed)[i]))\n",
    "                \n",
    "            except IndexError:\n",
    "                results.append(0)\n",
    "\n",
    "\n",
    "            \n",
    "\n",
    "    return results\n"
   ]
  },
  {
   "cell_type": "code",
   "execution_count": 89,
   "metadata": {},
   "outputs": [
    {
     "name": "stdout",
     "output_type": "stream",
     "text": [
      "[5, 2, 2, 7, 3, 2, 1, 5, 3, 3, 6, 2, 3, 0, 3, 0, 1, 8, 0, 9, 2, 7, 2, 4, 4, 2, 0, 1, 6, 4, 8, 4, 4, 2, 2, 0, 1, 7, 8, 0, 1, 6, 8, 4, 8, 3, 5, 8, 8, 5, 6, 1, 2, 9, 0, 7, 4, 5, 0, 6, 3, 0, 4, 0, 2, 4, 1, 6, 8, 3, 7, 0, 5, 6, 9, 0, 3, 2, 3, 7, 4, 7, 8, 1, 8, 5, 7, 9, 5, 9, 9, 2, 9, 0, 4, 0, 7, 2, 1, 6]\n",
      "100\n"
     ]
    }
   ],
   "source": [
    "print(middle_square(1234, quant_digits=100))\n",
    "print(len(middle_square(1234, quant_digits=100)))"
   ]
  },
  {
   "cell_type": "markdown",
   "metadata": {},
   "source": [
    "## Multiplicativo de congruencias"
   ]
  },
  {
   "cell_type": "code",
   "execution_count": 90,
   "metadata": {},
   "outputs": [],
   "source": [
    "def congruential_multiplicative(seed: int, a = 16807, m = 2147483647 , iterations = 100, quant_digits = 100):\n",
    "    results = []\n",
    "    for _ in range(iterations):\n",
    "        seed = (a * seed) % m\n",
    "\n",
    "        for i in range(0,4):\n",
    "            if len(results) == quant_digits:\n",
    "                return results\n",
    "            \n",
    "            try:\n",
    "                results.append(int(str(seed)[i]))\n",
    "                \n",
    "            except IndexError:\n",
    "                results.append(0)\n",
    "    return results\n"
   ]
  },
  {
   "cell_type": "code",
   "execution_count": 91,
   "metadata": {},
   "outputs": [
    {
     "name": "stdout",
     "output_type": "stream",
     "text": [
      "[1, 6, 6, 0, 1, 7, 7, 9, 1, 5, 3, 7, 6, 3, 2, 7, 1, 8, 8, 7, 1, 4, 2, 6, 5, 4, 8, 3, 2, 0, 8, 7, 1, 3, 2, 3, 1, 5, 0, 9, 1, 8, 6, 6, 5, 7, 7, 6, 1, 7, 3, 4, 3, 6, 8, 0, 3, 3, 1, 0, 1, 9, 4, 1, 1, 7, 6, 2, 9, 8, 2, 7, 7, 1, 2, 2, 2, 0, 2, 6, 2, 0, 0, 6, 3, 3, 4, 1, 1, 0, 0, 6, 5, 1, 2, 5, 1, 6, 1, 0]\n"
     ]
    }
   ],
   "source": [
    "print(congruential_multiplicative(98784, quant_digits= 100))"
   ]
  },
  {
   "cell_type": "markdown",
   "metadata": {},
   "source": [
    "## Congruencial mixto"
   ]
  },
  {
   "cell_type": "code",
   "execution_count": 92,
   "metadata": {},
   "outputs": [],
   "source": [
    "def congruential_mixed(seed: int, a = 16807, c = 32, m = 2147483647, iterations = 100, quant_digits = 100):\n",
    "    results = []\n",
    "    for _ in range(iterations):\n",
    "        seed = (a * seed + c) % m\n",
    "\n",
    "        for i in range(0, 4):\n",
    "            if len(results) == quant_digits:\n",
    "                return results\n",
    "            \n",
    "            try:\n",
    "                results.append(int(str(seed)[i]))\n",
    "                \n",
    "            except IndexError:\n",
    "                results.append(0)\n",
    "    return results\n"
   ]
  },
  {
   "cell_type": "code",
   "execution_count": 93,
   "metadata": {},
   "outputs": [
    {
     "name": "stdout",
     "output_type": "stream",
     "text": [
      "[3, 9, 1, 4, 6, 5, 7, 8, 1, 9, 1, 9, 1, 1, 4, 6, 4, 5, 0, 4, 9, 1, 6, 4, 5, 4, 2, 3, 1, 2, 8, 5, 4, 2, 8, 0, 3, 1, 3, 1, 1, 8, 0, 8, 1, 4, 3, 5, 4, 0, 2, 9, 1, 4, 0, 4, 1, 3, 5, 9, 1, 3, 2, 7, 1, 7, 0, 0, 8, 0, 6, 7, 7, 3, 1, 6, 1, 2, 4, 9, 1, 3, 5, 9, 4, 0, 0, 6, 1, 3, 5, 1, 5, 0, 3, 0, 8, 2, 4, 7]\n"
     ]
    }
   ],
   "source": [
    "print(congruential_mixed(0.231, quant_digits= 100))"
   ]
  }
 ],
 "metadata": {
  "kernelspec": {
   "display_name": "env",
   "language": "python",
   "name": "python3"
  },
  "language_info": {
   "codemirror_mode": {
    "name": "ipython",
    "version": 3
   },
   "file_extension": ".py",
   "mimetype": "text/x-python",
   "name": "python",
   "nbconvert_exporter": "python",
   "pygments_lexer": "ipython3",
   "version": "3.9.12"
  }
 },
 "nbformat": 4,
 "nbformat_minor": 2
}
