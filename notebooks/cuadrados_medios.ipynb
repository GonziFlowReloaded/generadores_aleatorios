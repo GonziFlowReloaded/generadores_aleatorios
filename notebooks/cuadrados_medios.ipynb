{
 "cells": [
  {
   "cell_type": "markdown",
   "metadata": {},
   "source": [
    "## Cuadrados medios"
   ]
  },
  {
   "cell_type": "code",
   "execution_count": 34,
   "metadata": {},
   "outputs": [],
   "source": [
    "\n",
    "def middle_square(seed: int, iterations = 100, quant_digits = 100):\n",
    "    results = []\n",
    "    for _ in range(iterations):\n",
    "        seed_squared = seed ** 2 \n",
    "        seed_str = str(seed_squared)\n",
    "        seed_str = seed_str.zfill(8)\n",
    "        seed = int(seed_str[2:6])\n",
    "\n",
    "        for i in range(0,4):\n",
    "            if len(results) == quant_digits:\n",
    "                return results\n",
    "            \n",
    "            try:\n",
    "                results.append(int(str(seed)[i]))\n",
    "                \n",
    "            except IndexError:\n",
    "                results.append(0)\n",
    "\n",
    "\n",
    "            \n",
    "\n",
    "    return results\n"
   ]
  },
  {
   "cell_type": "code",
   "execution_count": 35,
   "metadata": {},
   "outputs": [
    {
     "name": "stdout",
     "output_type": "stream",
     "text": [
      "[5, 2, 2, 7, 3, 2, 1, 5, 3, 3, 6, 2, 3, 0, 3, 0, 1, 8, 0, 9, 2, 7, 2, 4, 4, 2, 0, 1, 6, 4, 8, 4, 4, 2, 2, 0, 1, 7, 8, 0, 1, 6, 8, 4, 8, 3, 5, 8, 8, 5, 6, 1, 2, 9, 0, 7, 4, 5, 0, 6, 3, 0, 4, 0, 2, 4, 1, 6, 8, 3, 7, 0, 5, 6, 9, 0, 3, 2, 3, 7, 4, 7, 8, 1, 8, 5, 7, 9, 5, 9, 9, 2, 9, 0, 4, 0, 7, 2, 1, 6]\n",
      "100\n"
     ]
    }
   ],
   "source": [
    "print(middle_square(1234, quant_digits=100))\n",
    "print(len(middle_square(1234, quant_digits=100)))"
   ]
  },
  {
   "cell_type": "markdown",
   "metadata": {},
   "source": [
    "## Multiplicativo de congruencias"
   ]
  },
  {
   "cell_type": "code",
   "execution_count": 36,
   "metadata": {},
   "outputs": [],
   "source": [
    "def congruential_multiplicative(seed: int, a = 16807, m = 2147483647 , iterations = 100, quant_digits = 100):\n",
    "    results = []\n",
    "    for _ in range(iterations):\n",
    "        seed = (a * seed) % m\n",
    "\n",
    "        for i in range(0,4):\n",
    "            if len(results) == quant_digits:\n",
    "                return results\n",
    "            \n",
    "            try:\n",
    "                results.append(int(str(seed)[i]))\n",
    "                \n",
    "            except IndexError:\n",
    "                results.append(0)\n",
    "    return results\n"
   ]
  },
  {
   "cell_type": "code",
   "execution_count": 37,
   "metadata": {},
   "outputs": [
    {
     "name": "stdout",
     "output_type": "stream",
     "text": [
      "[1, 6, 6, 0, 1, 7, 7, 9, 1, 5, 3, 7, 6, 3, 2, 7, 1, 8, 8, 7, 1, 4, 2, 6, 5, 4, 8, 3, 2, 0, 8, 7, 1, 3, 2, 3, 1, 5, 0, 9, 1, 8, 6, 6, 5, 7, 7, 6, 1, 7, 3, 4, 3, 6, 8, 0, 3, 3, 1, 0, 1, 9, 4, 1, 1, 7, 6, 2, 9, 8, 2, 7, 7, 1, 2, 2, 2, 0, 2, 6, 2, 0, 0, 6, 3, 3, 4, 1, 1, 0, 0, 6, 5, 1, 2, 5, 1, 6, 1, 0]\n"
     ]
    }
   ],
   "source": [
    "print(congruential_multiplicative(98784, quant_digits= 100))"
   ]
  },
  {
   "cell_type": "markdown",
   "metadata": {},
   "source": [
    "## Congruencial mixto"
   ]
  },
  {
   "cell_type": "code",
   "execution_count": 38,
   "metadata": {},
   "outputs": [],
   "source": [
    "import datetime\n",
    "\n",
    "def congruential_mixed(seed: int, a=16807, c=32, m=2147483647, iterations=100, quant_digits=123):\n",
    "    results = []\n",
    "    for _ in range(iterations):\n",
    "        seed = (a * seed + c) % m\n",
    "        seed += datetime.datetime.now().microsecond\n",
    "  \n",
    "        for digit in str(seed):\n",
    "            results.append(int(digit))\n",
    "            if len(results) == quant_digits:\n",
    "                return results\n",
    "            \n",
    "\n",
    "    return results\n"
   ]
  },
  {
   "cell_type": "code",
   "execution_count": 39,
   "metadata": {},
   "outputs": [
    {
     "name": "stdout",
     "output_type": "stream",
     "text": [
      "1\n"
     ]
    }
   ],
   "source": [
    "print(len(congruential_mixed(1233, quant_digits= 1)))"
   ]
  },
  {
   "cell_type": "markdown",
   "metadata": {},
   "source": [
    "## Decimales"
   ]
  },
  {
   "cell_type": "code",
   "execution_count": 40,
   "metadata": {},
   "outputs": [
    {
     "name": "stdout",
     "output_type": "stream",
     "text": [
      "[0.8275770242325962, 0.6524071616586298, 0.8374803168699145, 0.053384241880849004, 0.75828722352162]\n"
     ]
    }
   ],
   "source": [
    "def congruential_mixto_decimal(seed: int, a = 1103515245, c = 12345, m= 2**32, n=100):\n",
    "    \"\"\"\n",
    "    Genera una secuencia de números aleatorios decimales utilizando el método de congruencia mixto.\n",
    "\n",
    "    Args:\n",
    "    - seed: Semilla inicial para el generador.\n",
    "    - a: Multiplicador.\n",
    "    - c: Constante aditiva.\n",
    "    - m: Módulo.\n",
    "    - n: Número de valores a generar.\n",
    "\n",
    "    Returns:\n",
    "    - Lista de números aleatorios decimales.\n",
    "    \"\"\"\n",
    "    random_numbers = []\n",
    "    x = seed\n",
    "    for _ in range(n):\n",
    "        x = (a * x + c) % m\n",
    "        random_numbers.append(x / m)  # Normalizando el resultado para obtener números entre 0 y 1\n",
    "    return random_numbers\n",
    "\n",
    "# Ejemplo de uso:\n",
    "seed = 12345\n",
    "a = 1103515245\n",
    "c = 12345\n",
    "m = 2**32\n",
    "cant_nums = 5\n",
    "random_decimals = congruential_mixto_decimal(seed, a, c, m, cant_nums)\n",
    "print(random_decimals)\n"
   ]
  },
  {
   "cell_type": "code",
   "execution_count": 41,
   "metadata": {},
   "outputs": [
    {
     "name": "stdout",
     "output_type": "stream",
     "text": [
      "[0.05429420690052211, 0.029913224279880524, 0.019955178955569863, 0.19417739612981677, 0.8636596796568483]\n"
     ]
    }
   ],
   "source": [
    "def congruential_mixto_decimal_interval(seed: int, interval: list, a=1103515245, c=12345, m=2**32, n=100):\n",
    "    \"\"\"\n",
    "    Genera una secuencia de números aleatorios decimales dentro de un intervalo utilizando el método de congruencia mixto.\n",
    "\n",
    "    Args:\n",
    "    - seed: Semilla inicial para el generador.\n",
    "    - interval: Arreglo de dos números representando el intervalo [a, b].\n",
    "    - a: Multiplicador.\n",
    "    - c: Constante aditiva.\n",
    "    - m: Módulo.\n",
    "    - n: Número de valores a generar.\n",
    "\n",
    "    Returns:\n",
    "    - Lista de números aleatorios decimales dentro del intervalo.\n",
    "    \"\"\"\n",
    "    random_numbers = []\n",
    "    a_interval, b_interval = interval\n",
    "    for rand in congruential_mixto_decimal(seed, a, c, m, n):\n",
    "        random_numbers.append(rand * (b_interval - a_interval) + a_interval)\n",
    "    return random_numbers\n",
    "\n",
    "# Ejemplo de uso:\n",
    "seed = 1234\n",
    "interval = [0, 1]  # Intervalo [5.0, 10.0]\n",
    "random_decimals_interval = congruential_mixto_decimal_interval(seed, interval, n=5)\n",
    "print(random_decimals_interval)\n"
   ]
  },
  {
   "cell_type": "markdown",
   "metadata": {},
   "source": [
    "## Ejercicio represa"
   ]
  },
  {
   "cell_type": "code",
   "execution_count": 47,
   "metadata": {},
   "outputs": [
    {
     "name": "stdout",
     "output_type": "stream",
     "text": [
      "Simulación de la represa durante 100 días\n",
      "La represa ha colapsado\n",
      "El nivel de alerta roja se activó 17 veces\n",
      "Veces que se abrieron las compuertas:\n",
      "Compuerta 1: 62 veces\n",
      "Compuerta 2: 61 veces\n",
      "Compuerta 3: 41 veces\n",
      "Compuerta 4: 35 veces\n"
     ]
    }
   ],
   "source": [
    "\"\"\"\n",
    "Nivel máximo de agua soportado por la represa: 45 m\n",
    "Niveles de activación de las compuertas: 15 m, 25 m, 32 m, 40 m\n",
    "Altura máxima de la represa: 52 m\n",
    "Ley de distribución de los incrementos diarios del nivel del lago\n",
    "\"\"\"\n",
    "\"\"\"\n",
    "Rangos de probabilidad de los incrementos diarios del nivel del lago:\n",
    "[000 - 036] -3\n",
    "[037 - 188] -2\n",
    "[189 - 224] -1\n",
    "[225 - 605] 0\n",
    "[606 - 659] 1\n",
    "[660 - 887] 2\n",
    "[888- 999] 3\n",
    "\"\"\"\n",
    "\n",
    "\n",
    "def simular_represa(dias = 10, nivel_del_lago = 10, seed=4443):\n",
    "\n",
    "    print(f'Simulación de la represa durante {dias} días')\n",
    "    numeros_generados = congruential_mixed(seed = seed, quant_digits=dias*4)\n",
    "\n",
    "    nivel_maximo = 52\n",
    "    nivel_minimo = 0\n",
    "    nivel_actual = nivel_del_lago\n",
    "    nivel_alerta_roja = 45\n",
    "\n",
    "    compuertas = {\n",
    "        1: 15,\n",
    "        2: 25,\n",
    "        3: 32,\n",
    "        4: 40\n",
    "    }\n",
    "\n",
    "    cantidad_de_veces_compuerta_abierta = {\n",
    "        1: 0,\n",
    "        2: 0,\n",
    "        3: 0,\n",
    "        4: 0\n",
    "    }\n",
    "    \n",
    "    probabilidades = {\n",
    "        -3: [0, 36],\n",
    "        -2: [37, 188],\n",
    "        -1: [189, 224],\n",
    "        0: [225, 605],\n",
    "        1: [606, 659],\n",
    "        2: [660, 887],\n",
    "        3: [888, 999]\n",
    "    }\n",
    "\n",
    "    contar_alerta_roja = 0\n",
    "\n",
    "    for i in range(dias):\n",
    "        probabilidad_obtenida = \"\"\n",
    "        \n",
    "        #Agarrar 3 digitos de la lista de numeros generados\n",
    "        \n",
    "        for _ in range(3):\n",
    "            probabilidad_obtenida += str(numeros_generados.pop(0))\n",
    "            \n",
    "        \n",
    "        for key, value in probabilidades.items():\n",
    "            if int(probabilidad_obtenida) >= value[0] and int(probabilidad_obtenida) <= value[1]:\n",
    "                nivel_actual += key\n",
    "                break\n",
    "\n",
    "        if nivel_actual > nivel_maximo:\n",
    "            nivel_actual = nivel_maximo\n",
    "\n",
    "        if nivel_actual < nivel_minimo:\n",
    "            nivel_actual = nivel_minimo\n",
    "\n",
    "        print(f'Día {i+1}: Nivel del lago: {nivel_actual} m')\n",
    "\n",
    "        for compuerta in compuertas:\n",
    "            if nivel_actual > compuertas[compuerta]:\n",
    "\n",
    "                cantidad_de_veces_compuerta_abierta[compuerta] += 1\n",
    "\n",
    "                print(f'Compuerta {compuerta} abierta')\n",
    "        \n",
    "        if nivel_actual >= nivel_alerta_roja:\n",
    "            print('Nivel de alerta roja')\n",
    "            contar_alerta_roja += 1\n",
    "\n",
    "        if nivel_actual >= nivel_maximo:\n",
    "            print('La represa ha colapsado')\n",
    "            break\n",
    "\n",
    "        if nivel_actual <= nivel_minimo:\n",
    "            print('El lago se ha secado')\n",
    "            break\n",
    "        \n",
    "\n",
    "\n",
    "    print(f'El nivel de alerta roja se activó {contar_alerta_roja} veces')\n",
    "    print('Veces que se abrieron las compuertas:')\n",
    "    for compuerta, veces in cantidad_de_veces_compuerta_abierta.items():\n",
    "        print(f'Compuerta {compuerta}: {veces} veces')\n",
    "\n",
    "simular_represa(dias=100, nivel_del_lago=23, seed=1233)"
   ]
  },
  {
   "cell_type": "code",
   "execution_count": 43,
   "metadata": {},
   "outputs": [
    {
     "name": "stdout",
     "output_type": "stream",
     "text": [
      "Los números generados son aleatorios: True\n",
      "Xobs: 7.333333333333333\n",
      "Xesp: 16.918977604620448\n"
     ]
    }
   ],
   "source": [
    "import numpy as np\n",
    "import scipy\n",
    "\n",
    "def chi_squared_test(numbers, num_bins=10, alpha=0.05):\n",
    "    expected_frequency = len(numbers) / num_bins\n",
    "    \n",
    "    # Calcular el histograma de los números generados\n",
    "    observed_frequency, _ = np.histogram(numbers, bins=num_bins)\n",
    "    \n",
    "    # Calcular el estadístico de prueba (chi-cuadrado)\n",
    "    chi_squared_statistic = np.sum((observed_frequency - expected_frequency) ** 2 / expected_frequency)\n",
    "    \n",
    "    # Calcular el valor crítico de chi-cuadrado\n",
    "    critical_value = scipy.stats.chi2.ppf(1 - alpha, num_bins - 1)\n",
    "    \n",
    "    # Comparar el estadístico de prueba con el valor crítico\n",
    "    if chi_squared_statistic <= critical_value:\n",
    "        return True, chi_squared_statistic, critical_value\n",
    "    else:\n",
    "        return False, chi_squared_statistic, critical_value\n",
    "\n",
    "# Ejemplo de uso:\n",
    "numbers = congruential_mixed(1234, quant_digits=30)\n",
    "\n",
    "# Prueba de chi-cuadrado\n",
    "is_random, chi_squared_statistic, critical_value = chi_squared_test(numbers, num_bins=10, alpha=0.05)\n",
    "\n",
    "print(f'Los números generados son aleatorios: {is_random}')\n",
    "print(f'Xobs: {chi_squared_statistic}')\n",
    "print(f'Xesp: {critical_value}')"
   ]
  }
 ],
 "metadata": {
  "kernelspec": {
   "display_name": "env",
   "language": "python",
   "name": "python3"
  },
  "language_info": {
   "codemirror_mode": {
    "name": "ipython",
    "version": 3
   },
   "file_extension": ".py",
   "mimetype": "text/x-python",
   "name": "python",
   "nbconvert_exporter": "python",
   "pygments_lexer": "ipython3",
   "version": "3.11.0"
  }
 },
 "nbformat": 4,
 "nbformat_minor": 2
}
