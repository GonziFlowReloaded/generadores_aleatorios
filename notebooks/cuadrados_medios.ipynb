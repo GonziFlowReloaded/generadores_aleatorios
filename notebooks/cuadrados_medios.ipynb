{
 "cells": [
  {
   "cell_type": "markdown",
   "metadata": {},
   "source": [
    "## Cuadrados medios"
   ]
  },
  {
   "cell_type": "code",
   "execution_count": 88,
   "metadata": {},
   "outputs": [],
   "source": [
    "\n",
    "def middle_square(seed: int, iterations = 100, quant_digits = 100):\n",
    "    results = []\n",
    "    for _ in range(iterations):\n",
    "        seed_squared = seed ** 2 \n",
    "        seed_str = str(seed_squared)\n",
    "        seed_str = seed_str.zfill(8)\n",
    "        seed = int(seed_str[2:6])\n",
    "\n",
    "        for i in range(0,4):\n",
    "            if len(results) == quant_digits:\n",
    "                return results\n",
    "            \n",
    "            try:\n",
    "                results.append(int(str(seed)[i]))\n",
    "                \n",
    "            except IndexError:\n",
    "                results.append(0)\n",
    "\n",
    "\n",
    "            \n",
    "\n",
    "    return results\n"
   ]
  },
  {
   "cell_type": "code",
   "execution_count": 89,
   "metadata": {},
   "outputs": [
    {
     "name": "stdout",
     "output_type": "stream",
     "text": [
      "[5, 2, 2, 7, 3, 2, 1, 5, 3, 3, 6, 2, 3, 0, 3, 0, 1, 8, 0, 9, 2, 7, 2, 4, 4, 2, 0, 1, 6, 4, 8, 4, 4, 2, 2, 0, 1, 7, 8, 0, 1, 6, 8, 4, 8, 3, 5, 8, 8, 5, 6, 1, 2, 9, 0, 7, 4, 5, 0, 6, 3, 0, 4, 0, 2, 4, 1, 6, 8, 3, 7, 0, 5, 6, 9, 0, 3, 2, 3, 7, 4, 7, 8, 1, 8, 5, 7, 9, 5, 9, 9, 2, 9, 0, 4, 0, 7, 2, 1, 6]\n",
      "100\n"
     ]
    }
   ],
   "source": [
    "print(middle_square(1234, quant_digits=100))\n",
    "print(len(middle_square(1234, quant_digits=100)))"
   ]
  },
  {
   "cell_type": "markdown",
   "metadata": {},
   "source": [
    "## Multiplicativo de congruencias"
   ]
  },
  {
   "cell_type": "code",
   "execution_count": 90,
   "metadata": {},
   "outputs": [],
   "source": [
    "def congruential_multiplicative(seed: int, a = 16807, m = 2147483647 , iterations = 100, quant_digits = 100):\n",
    "    results = []\n",
    "    for _ in range(iterations):\n",
    "        seed = (a * seed) % m\n",
    "\n",
    "        for i in range(0,4):\n",
    "            if len(results) == quant_digits:\n",
    "                return results\n",
    "            \n",
    "            try:\n",
    "                results.append(int(str(seed)[i]))\n",
    "                \n",
    "            except IndexError:\n",
    "                results.append(0)\n",
    "    return results\n"
   ]
  },
  {
   "cell_type": "code",
   "execution_count": 91,
   "metadata": {},
   "outputs": [
    {
     "name": "stdout",
     "output_type": "stream",
     "text": [
      "[1, 6, 6, 0, 1, 7, 7, 9, 1, 5, 3, 7, 6, 3, 2, 7, 1, 8, 8, 7, 1, 4, 2, 6, 5, 4, 8, 3, 2, 0, 8, 7, 1, 3, 2, 3, 1, 5, 0, 9, 1, 8, 6, 6, 5, 7, 7, 6, 1, 7, 3, 4, 3, 6, 8, 0, 3, 3, 1, 0, 1, 9, 4, 1, 1, 7, 6, 2, 9, 8, 2, 7, 7, 1, 2, 2, 2, 0, 2, 6, 2, 0, 0, 6, 3, 3, 4, 1, 1, 0, 0, 6, 5, 1, 2, 5, 1, 6, 1, 0]\n"
     ]
    }
   ],
   "source": [
    "print(congruential_multiplicative(98784, quant_digits= 100))"
   ]
  },
  {
   "cell_type": "markdown",
   "metadata": {},
   "source": [
    "## Congruencial mixto"
   ]
  },
  {
   "cell_type": "code",
   "execution_count": 92,
   "metadata": {},
   "outputs": [],
   "source": [
    "def congruential_mixed(seed: int, a = 16807, c = 32, m = 2147483647, iterations = 100, quant_digits = 100):\n",
    "    results = []\n",
    "    for _ in range(iterations):\n",
    "        seed = (a * seed + c) % m\n",
    "\n",
    "        for i in range(0, 4):\n",
    "            if len(results) == quant_digits:\n",
    "                return results\n",
    "            \n",
    "            try:\n",
    "                results.append(int(str(seed)[i]))\n",
    "                \n",
    "            except IndexError:\n",
    "                results.append(0)\n",
    "    return results\n"
   ]
  },
  {
   "cell_type": "code",
   "execution_count": 93,
   "metadata": {},
   "outputs": [
    {
     "name": "stdout",
     "output_type": "stream",
     "text": [
      "[3, 9, 1, 4, 6, 5, 7, 8, 1, 9, 1, 9, 1, 1, 4, 6, 4, 5, 0, 4, 9, 1, 6, 4, 5, 4, 2, 3, 1, 2, 8, 5, 4, 2, 8, 0, 3, 1, 3, 1, 1, 8, 0, 8, 1, 4, 3, 5, 4, 0, 2, 9, 1, 4, 0, 4, 1, 3, 5, 9, 1, 3, 2, 7, 1, 7, 0, 0, 8, 0, 6, 7, 7, 3, 1, 6, 1, 2, 4, 9, 1, 3, 5, 9, 4, 0, 0, 6, 1, 3, 5, 1, 5, 0, 3, 0, 8, 2, 4, 7]\n"
     ]
    }
   ],
   "source": [
    "print(congruential_mixed(0.231, quant_digits= 100))"
   ]
  },
  {
   "cell_type": "markdown",
   "metadata": {},
   "source": [
    "## Decimales"
   ]
  },
  {
   "cell_type": "code",
   "execution_count": 4,
   "metadata": {},
   "outputs": [
    {
     "name": "stdout",
     "output_type": "stream",
     "text": [
      "[0.8275770242325962, 0.6524071616586298, 0.8374803168699145, 0.053384241880849004, 0.75828722352162]\n"
     ]
    }
   ],
   "source": [
    "def congruential_mixto_decimal(seed: int, a = 1103515245, c = 12345, m= 2**32, n=100):\n",
    "    \"\"\"\n",
    "    Genera una secuencia de números aleatorios decimales utilizando el método de congruencia mixto.\n",
    "\n",
    "    Args:\n",
    "    - seed: Semilla inicial para el generador.\n",
    "    - a: Multiplicador.\n",
    "    - c: Constante aditiva.\n",
    "    - m: Módulo.\n",
    "    - n: Número de valores a generar.\n",
    "\n",
    "    Returns:\n",
    "    - Lista de números aleatorios decimales.\n",
    "    \"\"\"\n",
    "    random_numbers = []\n",
    "    x = seed\n",
    "    for _ in range(n):\n",
    "        x = (a * x + c) % m\n",
    "        random_numbers.append(x / m)  # Normalizando el resultado para obtener números entre 0 y 1\n",
    "    return random_numbers\n",
    "\n",
    "# Ejemplo de uso:\n",
    "seed = 12345\n",
    "a = 1103515245\n",
    "c = 12345\n",
    "m = 2**32\n",
    "cant_nums = 5\n",
    "random_decimals = congruential_mixto_decimal(seed, a, c, m, cant_nums)\n",
    "print(random_decimals)\n"
   ]
  },
  {
   "cell_type": "code",
   "execution_count": 9,
   "metadata": {},
   "outputs": [
    {
     "name": "stdout",
     "output_type": "stream",
     "text": [
      "[0.8275770242325962, 0.6524071616586298, 0.8374803168699145, 0.053384241880849004, 0.75828722352162, 0.24483317020349205, 0.8012360986322165, 0.6849773789290339, 0.12833352899178863, 0.6870911025907844, 0.41279248986393213, 0.5863599583972245, 0.14890592591837049, 0.3217653303872794, 0.3948274366557598, 0.4939056432340294, 0.900285433512181, 0.7321285491343588, 0.2694993233308196, 0.8127464887220412, 0.6249959603883326, 0.35194402444176376, 0.3581417966634035, 0.4897587823215872, 0.6645108475349844, 0.722728775581345, 0.8542007775977254, 0.3699473210144788, 0.5863890987820923, 0.007852696580812335, 0.391288660466671, 0.02060312614776194, 0.7987162987701595, 0.12284861481748521, 0.2782306997105479, 0.7576095957774669, 0.6987252184189856, 0.5913082871120423, 0.3229785840958357, 0.3582720945123583, 0.15247110789641738, 0.9857393333222717, 0.9172661984339356, 0.6950459808576852, 0.8524366770870984, 0.5627581074368209, 0.803882572799921, 0.274538072058931, 0.849941763561219, 0.4519935061689466, 0.698437019251287, 0.41615654644556344, 0.30923268804326653, 0.5080767150502652, 0.6874914560467005, 0.5547842832747847, 0.2801262973807752, 0.6850918920245022, 0.07493491936475039, 0.9018506400752813, 0.03608369501307607, 0.5428627885412425, 0.09847526252269745, 0.44917666749097407, 0.274588658940047, 0.2444503081496805, 0.6881230426952243, 0.049968761624768376, 0.2267057471908629, 0.15423600259236991, 0.1885425951331854, 0.061335753882303834, 0.47269309079274535, 0.8959665053989738, 0.7171452948823571, 0.7827044383157045, 0.010544874239712954, 0.4801339029800147, 0.5798000060021877, 0.6745085364673287, 0.8743385034613311, 0.8600670432206243, 0.9160357182845473, 0.09152609971351922, 0.3492614612914622, 0.02610878157429397, 0.4956113714724779, 0.015240349108353257, 0.5801928504370153, 0.4972541646566242, 0.33832786697894335, 0.019598952727392316, 0.12071462394669652, 0.819624551339075, 0.5789572671055794, 0.4545467405114323, 0.7194275031797588, 0.4311526713427156, 0.7491641817614436, 0.5817068566102535]\n"
     ]
    }
   ],
   "source": [
    "def congruential_mixto_decimal_interval(seed: int, interval: list, a=1103515245, c=12345, m=2**32, n=100):\n",
    "    \"\"\"\n",
    "    Genera una secuencia de números aleatorios decimales dentro de un intervalo utilizando el método de congruencia mixto.\n",
    "\n",
    "    Args:\n",
    "    - seed: Semilla inicial para el generador.\n",
    "    - interval: Arreglo de dos números representando el intervalo [a, b].\n",
    "    - a: Multiplicador.\n",
    "    - c: Constante aditiva.\n",
    "    - m: Módulo.\n",
    "    - n: Número de valores a generar.\n",
    "\n",
    "    Returns:\n",
    "    - Lista de números aleatorios decimales dentro del intervalo.\n",
    "    \"\"\"\n",
    "    random_numbers = []\n",
    "    a_interval, b_interval = interval\n",
    "    for rand in congruential_mixto_decimal(seed, a, c, m, n):\n",
    "        random_numbers.append(rand * (b_interval - a_interval) + a_interval)\n",
    "    return random_numbers\n",
    "\n",
    "# Ejemplo de uso:\n",
    "seed = 12345\n",
    "interval = [0, 1]  # Intervalo [5.0, 10.0]\n",
    "random_decimals_interval = congruential_mixto_decimal_interval(seed, interval, n=5)\n",
    "print(random_decimals_interval)\n"
   ]
  }
 ],
 "metadata": {
  "kernelspec": {
   "display_name": "env",
   "language": "python",
   "name": "python3"
  },
  "language_info": {
   "codemirror_mode": {
    "name": "ipython",
    "version": 3
   },
   "file_extension": ".py",
   "mimetype": "text/x-python",
   "name": "python",
   "nbconvert_exporter": "python",
   "pygments_lexer": "ipython3",
   "version": "3.9.12"
  }
 },
 "nbformat": 4,
 "nbformat_minor": 2
}
