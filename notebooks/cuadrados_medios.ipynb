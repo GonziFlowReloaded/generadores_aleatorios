{
 "cells": [
  {
   "cell_type": "markdown",
   "metadata": {},
   "source": [
    "## Cuadrados medios"
   ]
  },
  {
   "cell_type": "code",
   "execution_count": 2,
   "metadata": {},
   "outputs": [],
   "source": [
    "\n",
    "def middle_square(seed: int, iterations = 100, quant_digits = 100):\n",
    "    results = []\n",
    "    for _ in range(iterations):\n",
    "        seed_squared = seed ** 2 \n",
    "        seed_str = str(seed_squared)\n",
    "        seed_str = seed_str.zfill(8)\n",
    "        seed = int(seed_str[2:6])\n",
    "\n",
    "        for i in range(0,4):\n",
    "            if len(results) == quant_digits:\n",
    "                return results\n",
    "            \n",
    "            try:\n",
    "                results.append(int(str(seed)[i]))\n",
    "                \n",
    "            except IndexError:\n",
    "                results.append(0)\n",
    "\n",
    "\n",
    "            \n",
    "\n",
    "    return results\n"
   ]
  },
  {
   "cell_type": "code",
   "execution_count": 3,
   "metadata": {},
   "outputs": [
    {
     "name": "stdout",
     "output_type": "stream",
     "text": [
      "[5, 2, 2, 7, 3, 2, 1, 5, 3, 3, 6, 2, 3, 0, 3, 0, 1, 8, 0, 9, 2, 7, 2, 4, 4, 2, 0, 1, 6, 4, 8, 4, 4, 2, 2, 0, 1, 7, 8, 0, 1, 6, 8, 4, 8, 3, 5, 8, 8, 5, 6, 1, 2, 9, 0, 7, 4, 5, 0, 6, 3, 0, 4, 0, 2, 4, 1, 6, 8, 3, 7, 0, 5, 6, 9, 0, 3, 2, 3, 7, 4, 7, 8, 1, 8, 5, 7, 9, 5, 9, 9, 2, 9, 0, 4, 0, 7, 2, 1, 6]\n",
      "100\n"
     ]
    }
   ],
   "source": [
    "print(middle_square(1234, quant_digits=100))\n",
    "print(len(middle_square(1234, quant_digits=100)))"
   ]
  },
  {
   "cell_type": "markdown",
   "metadata": {},
   "source": [
    "## Multiplicativo de congruencias"
   ]
  },
  {
   "cell_type": "code",
   "execution_count": 4,
   "metadata": {},
   "outputs": [],
   "source": [
    "def congruential_multiplicative(seed: int, a = 16807, m = 2147483647 , iterations = 100, quant_digits = 100):\n",
    "    results = []\n",
    "    for _ in range(iterations):\n",
    "        seed = (a * seed) % m\n",
    "\n",
    "        for i in range(0,4):\n",
    "            if len(results) == quant_digits:\n",
    "                return results\n",
    "            \n",
    "            try:\n",
    "                results.append(int(str(seed)[i]))\n",
    "                \n",
    "            except IndexError:\n",
    "                results.append(0)\n",
    "    return results\n"
   ]
  },
  {
   "cell_type": "code",
   "execution_count": 5,
   "metadata": {},
   "outputs": [
    {
     "name": "stdout",
     "output_type": "stream",
     "text": [
      "[1, 6, 6, 0, 1, 7, 7, 9, 1, 5, 3, 7, 6, 3, 2, 7, 1, 8, 8, 7, 1, 4, 2, 6, 5, 4, 8, 3, 2, 0, 8, 7, 1, 3, 2, 3, 1, 5, 0, 9, 1, 8, 6, 6, 5, 7, 7, 6, 1, 7, 3, 4, 3, 6, 8, 0, 3, 3, 1, 0, 1, 9, 4, 1, 1, 7, 6, 2, 9, 8, 2, 7, 7, 1, 2, 2, 2, 0, 2, 6, 2, 0, 0, 6, 3, 3, 4, 1, 1, 0, 0, 6, 5, 1, 2, 5, 1, 6, 1, 0]\n"
     ]
    }
   ],
   "source": [
    "print(congruential_multiplicative(98784, quant_digits= 100))"
   ]
  },
  {
   "cell_type": "markdown",
   "metadata": {},
   "source": [
    "## Congruencial mixto"
   ]
  },
  {
   "cell_type": "code",
   "execution_count": 6,
   "metadata": {},
   "outputs": [],
   "source": [
    "def congruential_mixed(seed: int, a = 16807, c = 32, m = 2147483647, iterations = 100, quant_digits = 100):\n",
    "    results = []\n",
    "    for _ in range(iterations):\n",
    "        seed = (a * seed + c) % m\n",
    "\n",
    "        for i in range(0, 4):\n",
    "            if len(results) == quant_digits:\n",
    "                return results\n",
    "            \n",
    "            try:\n",
    "                results.append(int(str(seed)[i]))\n",
    "                \n",
    "            except IndexError:\n",
    "                results.append(0)\n",
    "    return results\n"
   ]
  },
  {
   "cell_type": "code",
   "execution_count": 7,
   "metadata": {},
   "outputs": [
    {
     "name": "stdout",
     "output_type": "stream",
     "text": [
      "[3, 9, 1, 4, 6, 5, 7, 8, 1, 9, 1, 9, 1, 1, 4, 6, 4, 5, 0, 4, 9, 1, 6, 4, 5, 4, 2, 3, 1, 2, 8, 5, 4, 2, 8, 0, 3, 1, 3, 1, 1, 8, 0, 8, 1, 4, 3, 5, 4, 0, 2, 9, 1, 4, 0, 4, 1, 3, 5, 9, 1, 3, 2, 7, 1, 7, 0, 0, 8, 0, 6, 7, 7, 3, 1, 6, 1, 2, 4, 9, 1, 3, 5, 9, 4, 0, 0, 6, 1, 3, 5, 1, 5, 0, 3, 0, 8, 2, 4, 7]\n"
     ]
    }
   ],
   "source": [
    "print(congruential_mixed(0.231, quant_digits= 100))"
   ]
  },
  {
   "cell_type": "markdown",
   "metadata": {},
   "source": [
    "## Decimales"
   ]
  },
  {
   "cell_type": "code",
   "execution_count": 8,
   "metadata": {},
   "outputs": [
    {
     "name": "stdout",
     "output_type": "stream",
     "text": [
      "[0.8275770242325962, 0.6524071616586298, 0.8374803168699145, 0.053384241880849004, 0.75828722352162]\n"
     ]
    }
   ],
   "source": [
    "def congruential_mixto_decimal(seed: int, a = 1103515245, c = 12345, m= 2**32, n=100):\n",
    "    \"\"\"\n",
    "    Genera una secuencia de números aleatorios decimales utilizando el método de congruencia mixto.\n",
    "\n",
    "    Args:\n",
    "    - seed: Semilla inicial para el generador.\n",
    "    - a: Multiplicador.\n",
    "    - c: Constante aditiva.\n",
    "    - m: Módulo.\n",
    "    - n: Número de valores a generar.\n",
    "\n",
    "    Returns:\n",
    "    - Lista de números aleatorios decimales.\n",
    "    \"\"\"\n",
    "    random_numbers = []\n",
    "    x = seed\n",
    "    for _ in range(n):\n",
    "        x = (a * x + c) % m\n",
    "        random_numbers.append(x / m)  # Normalizando el resultado para obtener números entre 0 y 1\n",
    "    return random_numbers\n",
    "\n",
    "# Ejemplo de uso:\n",
    "seed = 12345\n",
    "a = 1103515245\n",
    "c = 12345\n",
    "m = 2**32\n",
    "cant_nums = 5\n",
    "random_decimals = congruential_mixto_decimal(seed, a, c, m, cant_nums)\n",
    "print(random_decimals)\n"
   ]
  },
  {
   "cell_type": "code",
   "execution_count": 9,
   "metadata": {},
   "outputs": [
    {
     "name": "stdout",
     "output_type": "stream",
     "text": [
      "[0.05429420690052211, 0.029913224279880524, 0.019955178955569863, 0.19417739612981677, 0.8636596796568483]\n"
     ]
    }
   ],
   "source": [
    "def congruential_mixto_decimal_interval(seed: int, interval: list, a=1103515245, c=12345, m=2**32, n=100):\n",
    "    \"\"\"\n",
    "    Genera una secuencia de números aleatorios decimales dentro de un intervalo utilizando el método de congruencia mixto.\n",
    "\n",
    "    Args:\n",
    "    - seed: Semilla inicial para el generador.\n",
    "    - interval: Arreglo de dos números representando el intervalo [a, b].\n",
    "    - a: Multiplicador.\n",
    "    - c: Constante aditiva.\n",
    "    - m: Módulo.\n",
    "    - n: Número de valores a generar.\n",
    "\n",
    "    Returns:\n",
    "    - Lista de números aleatorios decimales dentro del intervalo.\n",
    "    \"\"\"\n",
    "    random_numbers = []\n",
    "    a_interval, b_interval = interval\n",
    "    for rand in congruential_mixto_decimal(seed, a, c, m, n):\n",
    "        random_numbers.append(rand * (b_interval - a_interval) + a_interval)\n",
    "    return random_numbers\n",
    "\n",
    "# Ejemplo de uso:\n",
    "seed = 1234\n",
    "interval = [0, 1]  # Intervalo [5.0, 10.0]\n",
    "random_decimals_interval = congruential_mixto_decimal_interval(seed, interval, n=5)\n",
    "print(random_decimals_interval)\n"
   ]
  },
  {
   "cell_type": "markdown",
   "metadata": {},
   "source": [
    "## Ejercicio represa"
   ]
  },
  {
   "cell_type": "code",
   "execution_count": 35,
   "metadata": {},
   "outputs": [
    {
     "name": "stdout",
     "output_type": "stream",
     "text": [
      "Día 1: Nivel del lago: 12 m\n",
      "---\n",
      "Día 2: Nivel del lago: 15 m\n",
      "---\n",
      "Día 3: Nivel del lago: 13 m\n",
      "---\n",
      "Día 4: Nivel del lago: 11 m\n",
      "---\n",
      "Día 5: Nivel del lago: 9 m\n",
      "---\n",
      "Día 6: Nivel del lago: 9 m\n",
      "---\n",
      "Día 7: Nivel del lago: 7 m\n",
      "---\n",
      "Día 8: Nivel del lago: 5 m\n",
      "---\n",
      "Día 9: Nivel del lago: 4 m\n",
      "---\n",
      "Día 10: Nivel del lago: 5 m\n",
      "---\n",
      "Día 11: Nivel del lago: 5 m\n",
      "---\n",
      "Día 12: Nivel del lago: 3 m\n",
      "---\n",
      "Día 13: Nivel del lago: 1 m\n",
      "---\n",
      "Día 14: Nivel del lago: 1 m\n",
      "---\n",
      "Día 15: Nivel del lago: 0 m\n",
      "El lago se ha secado\n",
      "El nivel de alerta roja se activó 0 veces\n"
     ]
    }
   ],
   "source": [
    "\"\"\"\n",
    "Nivel máximo de agua soportado por la represa: 45 m\n",
    "Niveles de activación de las compuertas: 15 m, 25 m, 32 m, 40 m\n",
    "Altura máxima de la represa: 52 m\n",
    "Ley de distribución de los incrementos diarios del nivel del lago\n",
    "\"\"\"\n",
    "\"\"\"\n",
    "Rangos de probabilidad de los incrementos diarios del nivel del lago:\n",
    "[000 - 036] -3\n",
    "[037 - 188] -2\n",
    "[189 - 224] -1\n",
    "[225 - 605] 0\n",
    "[606 - 659] 1\n",
    "[660 - 887] 2\n",
    "[888- 999] 3\n",
    "\"\"\"\n",
    "\n",
    "\n",
    "def simular_represa(dias = 10, nivel_del_lago = 10, seed=4443):\n",
    "    numeros_generados = congruential_mixed(seed = seed, quant_digits=dias*4)\n",
    "\n",
    "    nivel_maximo = 52\n",
    "    nivel_minimo = 0\n",
    "    nivel_actual = nivel_del_lago\n",
    "    nivel_alerta_roja = 45\n",
    "\n",
    "    compuertas = {\n",
    "        1: 15,\n",
    "        2: 25,\n",
    "        3: 32,\n",
    "        4: 40\n",
    "    }\n",
    "\n",
    "\n",
    "    \n",
    "    probabilidades = {\n",
    "        -3: [0, 36],\n",
    "        -2: [37, 188],\n",
    "        -1: [189, 224],\n",
    "        0: [225, 605],\n",
    "        1: [606, 659],\n",
    "        2: [660, 887],\n",
    "        3: [888, 999]\n",
    "    }\n",
    "\n",
    "    contar_alerta_roja = 0\n",
    "\n",
    "    for i in range(dias):\n",
    "        probabilidad_obtenida = \"\"\n",
    "        \n",
    "        #Agarrar 3 digitos de la lista de numeros generados\n",
    "        \n",
    "        for j in range(3):\n",
    "            probabilidad_obtenida += str(numeros_generados.pop(0))\n",
    "            \n",
    "        \n",
    "        for key, value in probabilidades.items():\n",
    "            if int(probabilidad_obtenida) >= value[0] and int(probabilidad_obtenida) <= value[1]:\n",
    "                nivel_actual += key\n",
    "                break\n",
    "\n",
    "        if nivel_actual > nivel_maximo:\n",
    "            nivel_actual = nivel_maximo\n",
    "\n",
    "        if nivel_actual < nivel_minimo:\n",
    "            nivel_actual = nivel_minimo\n",
    "\n",
    "        print(f'Día {i+1}: Nivel del lago: {nivel_actual} m')\n",
    "\n",
    "        for compuerta in compuertas:\n",
    "            if nivel_actual > compuertas[compuerta]:\n",
    "                print(f'Compuerta {compuerta} abierta')\n",
    "        \n",
    "        if nivel_actual >= nivel_alerta_roja:\n",
    "            print('Nivel de alerta roja')\n",
    "            contar_alerta_roja += 1\n",
    "\n",
    "        if nivel_actual >= nivel_maximo:\n",
    "            print('La represa ha colapsado')\n",
    "            break\n",
    "\n",
    "        if nivel_actual <= nivel_minimo:\n",
    "            print('El lago se ha secado')\n",
    "            break\n",
    "\n",
    "        print('---')\n",
    "\n",
    "    print(f'El nivel de alerta roja se activó {contar_alerta_roja} veces')\n",
    "\n",
    "simular_represa(dias=90, nivel_del_lago=10, seed=44444)"
   ]
  }
 ],
 "metadata": {
  "kernelspec": {
   "display_name": "env",
   "language": "python",
   "name": "python3"
  },
  "language_info": {
   "codemirror_mode": {
    "name": "ipython",
    "version": 3
   },
   "file_extension": ".py",
   "mimetype": "text/x-python",
   "name": "python",
   "nbconvert_exporter": "python",
   "pygments_lexer": "ipython3",
   "version": "3.9.12"
  }
 },
 "nbformat": 4,
 "nbformat_minor": 2
}
